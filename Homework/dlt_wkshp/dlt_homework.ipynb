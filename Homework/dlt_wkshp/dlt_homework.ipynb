{
  "cells": [
    {
      "cell_type": "markdown",
      "metadata": {
        "id": "mrTFv5nPClXh"
      },
      "source": [
        "# **Homework**: Data talks club data engineering zoomcamp Data loading workshop\n",
        "\n",
        "Hello folks, let's practice what we learned - Loading data with the best practices of data engineering.\n",
        "\n",
        "Here are the exercises we will do\n",
        "\n",
        "\n"
      ]
    },
    {
      "cell_type": "markdown",
      "metadata": {
        "id": "wLF4iXf-NR7t"
      },
      "source": [
        "# 1. Use a generator\n",
        "\n",
        "Remember the concept of generator? Let's practice using them to futher our understanding of how they work.\n",
        "\n",
        "Let's define a generator and then run it as practice.\n",
        "\n",
        "**Answer the following questions:**\n",
        "\n",
        "- **Question 1: What is the sum of the outputs of the generator for limit = 5?**\n",
        "- **Question 2: What is the 13th number yielded**\n",
        "\n",
        "I suggest practicing these questions without GPT as the purpose is to further your learning."
      ]
    },
    {
      "cell_type": "code",
      "execution_count": 1,
      "metadata": {
        "colab": {
          "base_uri": "https://localhost:8080/"
        },
        "id": "wLng-bDJN4jf",
        "outputId": "8f96c191-74c1-4c6c-ff74-46452c126ab8"
      },
      "outputs": [
        {
          "name": "stdout",
          "output_type": "stream",
          "text": [
            "1.0\n",
            "1.4142135623730951\n",
            "1.7320508075688772\n",
            "2.0\n",
            "2.23606797749979\n"
          ]
        }
      ],
      "source": [
        "def square_root_generator(limit):\n",
        "    n = 1\n",
        "    while n <= limit:\n",
        "        yield n ** 0.5\n",
        "        n += 1\n",
        "\n",
        "# Example usage:\n",
        "limit = 5\n",
        "val = 0\n",
        "generator = square_root_generator(limit)\n",
        "\n",
        "for sqrt_value in generator:\n",
        "  print(sqrt_value)"
      ]
    },
    {
      "cell_type": "code",
      "execution_count": 2,
      "metadata": {
        "colab": {
          "base_uri": "https://localhost:8080/"
        },
        "id": "pUsNE_C4EiSH",
        "outputId": "3f4290bb-9e8e-49cc-c53f-6a792baf0eb1"
      },
      "outputs": [
        {
          "name": "stdout",
          "output_type": "stream",
          "text": [
            "The solution = 8.382\n"
          ]
        }
      ],
      "source": [
        "# Question 1: What is the sum of the outputs of the generator for limit = 5?\n",
        "limit = 5\n",
        "solution = 0\n",
        "generator = square_root_generator(limit)\n",
        "\n",
        "for sqrt_value in generator:\n",
        "  solution += sqrt_value\n",
        "\n",
        "print(f\"The {solution = :.3f}\")"
      ]
    },
    {
      "cell_type": "code",
      "execution_count": 3,
      "metadata": {
        "colab": {
          "base_uri": "https://localhost:8080/"
        },
        "id": "KjR2m80OFObL",
        "outputId": "8b935fb8-25af-4a48-c451-0de85e5ee1c1"
      },
      "outputs": [
        {
          "name": "stdout",
          "output_type": "stream",
          "text": [
            "The 13th number yielded from generator is 3.606.\n"
          ]
        }
      ],
      "source": [
        "# Question 2: What is the 13th number yielded from the generator?\n",
        "\n",
        "limit = 13\n",
        "solution = 0\n",
        "generator = square_root_generator(limit)\n",
        "\n",
        "for idx, num in enumerate(generator):\n",
        "  if (idx + 1) == 13:\n",
        "    print(f\"The 13th number yielded from generator is {num:.3f}.\")"
      ]
    },
    {
      "cell_type": "markdown",
      "metadata": {
        "id": "vjWhILzGJMpK"
      },
      "source": [
        "# 2. Append a generator to a table with existing data\n",
        "\n",
        "\n",
        "Below you have 2 generators. You will be tasked to load them to duckdb and answer some questions from the data\n",
        "\n",
        "1. Load the first generator and calculate the sum of ages of all people. Make sure to only load it once.\n",
        "2. Append the second generator to the same table as the first.\n",
        "3. **After correctly appending the data, calculate the sum of all ages of people.**\n",
        "\n",
        "\n"
      ]
    },
    {
      "cell_type": "code",
      "execution_count": 4,
      "metadata": {
        "colab": {
          "base_uri": "https://localhost:8080/"
        },
        "id": "2MoaQcdLBEk6",
        "outputId": "6614453c-b225-4d45-be64-a8058b5eb016"
      },
      "outputs": [
        {
          "name": "stdout",
          "output_type": "stream",
          "text": [
            "{'ID': 1, 'Name': 'Person_1', 'Age': 26, 'City': 'City_A'}\n",
            "{'ID': 2, 'Name': 'Person_2', 'Age': 27, 'City': 'City_A'}\n",
            "{'ID': 3, 'Name': 'Person_3', 'Age': 28, 'City': 'City_A'}\n",
            "{'ID': 4, 'Name': 'Person_4', 'Age': 29, 'City': 'City_A'}\n",
            "{'ID': 5, 'Name': 'Person_5', 'Age': 30, 'City': 'City_A'}\n",
            "{'ID': 3, 'Name': 'Person_3', 'Age': 33, 'City': 'City_B', 'Occupation': 'Job_3'}\n",
            "{'ID': 4, 'Name': 'Person_4', 'Age': 34, 'City': 'City_B', 'Occupation': 'Job_4'}\n",
            "{'ID': 5, 'Name': 'Person_5', 'Age': 35, 'City': 'City_B', 'Occupation': 'Job_5'}\n",
            "{'ID': 6, 'Name': 'Person_6', 'Age': 36, 'City': 'City_B', 'Occupation': 'Job_6'}\n",
            "{'ID': 7, 'Name': 'Person_7', 'Age': 37, 'City': 'City_B', 'Occupation': 'Job_7'}\n",
            "{'ID': 8, 'Name': 'Person_8', 'Age': 38, 'City': 'City_B', 'Occupation': 'Job_8'}\n"
          ]
        }
      ],
      "source": [
        "def people_1():\n",
        "    for i in range(1, 6):\n",
        "        yield {\"ID\": i, \"Name\": f\"Person_{i}\", \"Age\": 25 + i, \"City\": \"City_A\"}\n",
        "\n",
        "for person in people_1():\n",
        "    print(person)\n",
        "\n",
        "\n",
        "def people_2():\n",
        "    for i in range(3, 9):\n",
        "        yield {\"ID\": i, \"Name\": f\"Person_{i}\", \"Age\": 30 + i, \"City\": \"City_B\", \"Occupation\": f\"Job_{i}\"}\n",
        "\n",
        "\n",
        "for person in people_2():\n",
        "    print(person)\n"
      ]
    },
    {
      "cell_type": "code",
      "execution_count": 5,
      "metadata": {
        "id": "VErg5cHsGpZy"
      },
      "outputs": [],
      "source": [
        "%%capture\n",
        "## Install dlt with duckdb dependency\n",
        "!pip install dlt[duckdb]\n",
        "import dlt\n",
        "import duckdb"
      ]
    },
    {
      "cell_type": "code",
      "execution_count": 6,
      "metadata": {
        "colab": {
          "base_uri": "https://localhost:8080/",
          "height": 607
        },
        "id": "v7RUaJf1GXAd",
        "outputId": "f3dd25f8-8948-4847-b79e-2223f324897e"
      },
      "outputs": [
        {
          "data": {
            "text/plain": [
              "LoadInfo(pipeline=<dlt.pipeline.pipeline.Pipeline object at 0x7ad9d9852290>, metrics={'1708025576.1615522': [{'started_at': DateTime(2024, 2, 15, 19, 32, 56, 600487, tzinfo=Timezone('UTC')), 'finished_at': DateTime(2024, 2, 15, 19, 32, 57, 119488, tzinfo=Timezone('UTC'))}]}, destination_type='dlt.destinations.duckdb', destination_displayable_credentials='duckdb:////content/dlt_colab_kernel_launcher.duckdb', destination_name='duckdb', environment=None, staging_type=None, staging_name=None, staging_displayable_credentials=None, destination_fingerprint='', dataset_name='people_tables', loads_ids=['1708025576.1615522'], load_packages=[LoadPackageInfo(load_id='1708025576.1615522', package_path='/var/dlt/pipelines/dlt_colab_kernel_launcher/load/loaded/1708025576.1615522', state='loaded', schema=Schema dlt_colab_kernel_launcher at 135076037200048, schema_update={'people': {'name': 'people', 'columns': {'id': {'name': 'id', 'data_type': 'bigint', 'nullable': True}, 'name': {'name': 'name', 'data_type': 'text', 'nullable': True}, 'age': {'name': 'age', 'data_type': 'bigint', 'nullable': True}, 'city': {'name': 'city', 'data_type': 'text', 'nullable': True}, '_dlt_load_id': {'name': '_dlt_load_id', 'data_type': 'text', 'nullable': False}, '_dlt_id': {'name': '_dlt_id', 'data_type': 'text', 'nullable': False, 'unique': True}}, 'write_disposition': 'replace', 'resource': 'people', 'table_format': None}, '_dlt_pipeline_state': {'columns': {'version': {'name': 'version', 'data_type': 'bigint', 'nullable': False}, 'engine_version': {'name': 'engine_version', 'data_type': 'bigint', 'nullable': False}, 'pipeline_name': {'name': 'pipeline_name', 'data_type': 'text', 'nullable': False}, 'state': {'name': 'state', 'data_type': 'text', 'nullable': False}, 'created_at': {'name': 'created_at', 'data_type': 'timestamp', 'nullable': False}, 'version_hash': {'name': 'version_hash', 'data_type': 'text', 'nullable': True}, '_dlt_load_id': {'name': '_dlt_load_id', 'data_type': 'text', 'nullable': False}, '_dlt_id': {'name': '_dlt_id', 'data_type': 'text', 'nullable': False, 'unique': True}}, 'write_disposition': 'append', 'name': '_dlt_pipeline_state', 'resource': '_dlt_pipeline_state', 'table_format': None}, '_dlt_version': {'name': '_dlt_version', 'columns': {'version': {'name': 'version', 'data_type': 'bigint', 'nullable': False}, 'engine_version': {'name': 'engine_version', 'data_type': 'bigint', 'nullable': False}, 'inserted_at': {'name': 'inserted_at', 'data_type': 'timestamp', 'nullable': False}, 'schema_name': {'name': 'schema_name', 'data_type': 'text', 'nullable': False}, 'version_hash': {'name': 'version_hash', 'data_type': 'text', 'nullable': False}, 'schema': {'name': 'schema', 'data_type': 'text', 'nullable': False}}, 'write_disposition': 'skip', 'resource': '_dlt_version', 'description': 'Created by DLT. Tracks schema updates', 'table_format': None}, '_dlt_loads': {'name': '_dlt_loads', 'columns': {'load_id': {'name': 'load_id', 'data_type': 'text', 'nullable': False}, 'schema_name': {'name': 'schema_name', 'data_type': 'text', 'nullable': True}, 'status': {'name': 'status', 'data_type': 'bigint', 'nullable': False}, 'inserted_at': {'name': 'inserted_at', 'data_type': 'timestamp', 'nullable': False}, 'schema_version_hash': {'name': 'schema_version_hash', 'data_type': 'text', 'nullable': True}}, 'write_disposition': 'skip', 'resource': '_dlt_loads', 'description': 'Created by DLT. Tracks completed loads', 'table_format': None}}, completed_at=DateTime(2024, 2, 15, 19, 32, 57, 107667, tzinfo=Timezone('UTC')), jobs={'completed_jobs': [LoadJobInfo(state='completed_jobs', file_path='/var/dlt/pipelines/dlt_colab_kernel_launcher/load/loaded/1708025576.1615522/completed_jobs/_dlt_pipeline_state.40349ffe61.0.insert_values', file_size=545, created_at=DateTime(2024, 2, 15, 19, 32, 56, 226608, tzinfo=Timezone('UTC')), elapsed=0.881058931350708, job_file_info=ParsedLoadJobFileName(table_name='_dlt_pipeline_state', file_id='40349ffe61', retry_count=0, file_format='insert_values'), failed_message=None), LoadJobInfo(state='completed_jobs', file_path='/var/dlt/pipelines/dlt_colab_kernel_launcher/load/loaded/1708025576.1615522/completed_jobs/people.0ce25a3cad.0.insert_values', file_size=281, created_at=DateTime(2024, 2, 15, 19, 32, 56, 227608, tzinfo=Timezone('UTC')), elapsed=0.880058765411377, job_file_info=ParsedLoadJobFileName(table_name='people', file_id='0ce25a3cad', retry_count=0, file_format='insert_values'), failed_message=None)], 'started_jobs': [], 'failed_jobs': [], 'new_jobs': []})], first_run=True)"
            ]
          },
          "metadata": {},
          "output_type": "display_data"
        }
      ],
      "source": [
        "# Create a pipeline that loads data into duckdb with a particular dataset name\n",
        "generators_pipeline = dlt.pipeline(\n",
        "    destination='duckdb',\n",
        "    dataset_name='people_tables'\n",
        ")\n",
        "\n",
        "# Use the generator as the information source, and create a table.\n",
        "# If the table exists, replace it (avoids loading the same data multiple times)\n",
        "info = generators_pipeline.run(\n",
        "    people_1(),\n",
        "    table_name=\"people\",\n",
        "    write_disposition=\"replace\"\n",
        ")\n",
        "\n",
        "display(info)"
      ]
    },
    {
      "cell_type": "code",
      "execution_count": 7,
      "metadata": {
        "colab": {
          "base_uri": "https://localhost:8080/",
          "height": 364
        },
        "id": "6bHATwYbIfWN",
        "outputId": "e9baceea-dc19-4cf1-9dd5-857969bb9d00"
      },
      "outputs": [
        {
          "name": "stdout",
          "output_type": "stream",
          "text": [
            "Loaded tables: \n"
          ]
        },
        {
          "data": {
            "text/plain": [
              "┌─────────────────────┐\n",
              "│        name         │\n",
              "│       varchar       │\n",
              "├─────────────────────┤\n",
              "│ _dlt_loads          │\n",
              "│ _dlt_pipeline_state │\n",
              "│ _dlt_version        │\n",
              "│ people              │\n",
              "└─────────────────────┘"
            ]
          },
          "metadata": {},
          "output_type": "display_data"
        },
        {
          "data": {
            "text/plain": [
              "┌───────┬──────────┬───────┬─────────┬────────────────────┬────────────────┐\n",
              "│  id   │   name   │  age  │  city   │    _dlt_load_id    │    _dlt_id     │\n",
              "│ int64 │ varchar  │ int64 │ varchar │      varchar       │    varchar     │\n",
              "├───────┼──────────┼───────┼─────────┼────────────────────┼────────────────┤\n",
              "│     1 │ Person_1 │    26 │ City_A  │ 1708025576.1615522 │ hOq3UeTWzR1K/w │\n",
              "│     2 │ Person_2 │    27 │ City_A  │ 1708025576.1615522 │ /pjg2DmjiHxDXA │\n",
              "│     3 │ Person_3 │    28 │ City_A  │ 1708025576.1615522 │ xmo7HgP+r+fSmA │\n",
              "│     4 │ Person_4 │    29 │ City_A  │ 1708025576.1615522 │ mi4DAGkzGAoDrA │\n",
              "│     5 │ Person_5 │    30 │ City_A  │ 1708025576.1615522 │ lAc0hJ1rS6VnAw │\n",
              "└───────┴──────────┴───────┴─────────┴────────────────────┴────────────────┘"
            ]
          },
          "metadata": {},
          "output_type": "display_data"
        }
      ],
      "source": [
        "# Create a connection to duckdb using the pipeline name (a property of dlt pipeline)\n",
        "conn = duckdb.connect(f\"{generators_pipeline.pipeline_name}.duckdb\")\n",
        "\n",
        "# Grab all the tables that now exist in duckdb to ensure the table loaded as intended\n",
        "# Use pipeline dataset_name, set in the previous cell\n",
        "conn.sql(f\"SET search_path = '{generators_pipeline.dataset_name}'\")\n",
        "print('Loaded tables: ')\n",
        "display(conn.sql(\"show tables\"))\n",
        "\n",
        "# Take a look at the table to verify that there are no duplicates\n",
        "people_tbl = conn.sql(\"SELECT * FROM people\")\n",
        "display(people_tbl)"
      ]
    },
    {
      "cell_type": "code",
      "execution_count": 8,
      "metadata": {
        "colab": {
          "base_uri": "https://localhost:8080/",
          "height": 347
        },
        "id": "cf9BLslCIz4a",
        "outputId": "2fc004a2-1375-4ebd-9dad-997f07bac2b1"
      },
      "outputs": [
        {
          "name": "stdout",
          "output_type": "stream",
          "text": [
            "\n"
          ]
        },
        {
          "data": {
            "text/plain": [
              "┌───────┬──────────┬───────┬─────────┬────────────────────┬────────────────┬────────────┐\n",
              "│  id   │   name   │  age  │  city   │    _dlt_load_id    │    _dlt_id     │ occupation │\n",
              "│ int64 │ varchar  │ int64 │ varchar │      varchar       │    varchar     │  varchar   │\n",
              "├───────┼──────────┼───────┼─────────┼────────────────────┼────────────────┼────────────┤\n",
              "│     1 │ Person_1 │    26 │ City_A  │ 1708025576.1615522 │ hOq3UeTWzR1K/w │ NULL       │\n",
              "│     2 │ Person_2 │    27 │ City_A  │ 1708025576.1615522 │ /pjg2DmjiHxDXA │ NULL       │\n",
              "│     3 │ Person_3 │    28 │ City_A  │ 1708025576.1615522 │ xmo7HgP+r+fSmA │ NULL       │\n",
              "│     4 │ Person_4 │    29 │ City_A  │ 1708025576.1615522 │ mi4DAGkzGAoDrA │ NULL       │\n",
              "│     5 │ Person_5 │    30 │ City_A  │ 1708025576.1615522 │ lAc0hJ1rS6VnAw │ NULL       │\n",
              "│     3 │ Person_3 │    33 │ City_B  │ 1708025577.2302227 │ Gs2h+LTf+WxgQA │ Job_3      │\n",
              "│     4 │ Person_4 │    34 │ City_B  │ 1708025577.2302227 │ 0CtXRYVnCGHSJg │ Job_4      │\n",
              "│     5 │ Person_5 │    35 │ City_B  │ 1708025577.2302227 │ FyDD3R4MwJdgDQ │ Job_5      │\n",
              "│     6 │ Person_6 │    36 │ City_B  │ 1708025577.2302227 │ bhIo/Woo45+AkA │ Job_6      │\n",
              "│     7 │ Person_7 │    37 │ City_B  │ 1708025577.2302227 │ QExp0UlArmR+KA │ Job_7      │\n",
              "│     8 │ Person_8 │    38 │ City_B  │ 1708025577.2302227 │ acByKjQcAxhODQ │ Job_8      │\n",
              "├───────┴──────────┴───────┴─────────┴────────────────────┴────────────────┴────────────┤\n",
              "│ 11 rows                                                                     7 columns │\n",
              "└───────────────────────────────────────────────────────────────────────────────────────┘"
            ]
          },
          "metadata": {},
          "output_type": "display_data"
        }
      ],
      "source": [
        "# Append the second generator to the same table as the first\n",
        "generators_pipeline.run(\n",
        "    people_2(),\n",
        "    table_name=\"people\",\n",
        "    write_disposition=\"append\"\n",
        ")\n",
        "\n",
        "# Sanity check to ensure people_2 was appended to people_01 as intended\n",
        "people_tbl2 = conn.sql(\"SELECT * FROM people\")\n",
        "print()\n",
        "display(people_tbl2)"
      ]
    },
    {
      "cell_type": "code",
      "execution_count": 9,
      "metadata": {
        "colab": {
          "base_uri": "https://localhost:8080/",
          "height": 121
        },
        "id": "jI-ZGnR1KKDb",
        "outputId": "320df3a5-b37a-4bef-baa7-a5015226b369"
      },
      "outputs": [
        {
          "data": {
            "text/plain": [
              "┌──────────┐\n",
              "│ sum(age) │\n",
              "│  int128  │\n",
              "├──────────┤\n",
              "│      353 │\n",
              "└──────────┘"
            ]
          },
          "metadata": {},
          "output_type": "display_data"
        }
      ],
      "source": [
        "# Use SQL to grab the sum of all the ages of the people captured in the table\n",
        "sum_ages = conn.sql(\"\"\"\n",
        "                    SELECT SUM(age)\n",
        "                    FROM people\n",
        "                    \"\"\")\n",
        "display(sum_ages)"
      ]
    },
    {
      "cell_type": "markdown",
      "metadata": {
        "id": "pY4cFAWOSwN1"
      },
      "source": [
        "# 3. Merge a generator\n",
        "\n",
        "Re-use the generators from Exercise 2.\n",
        "\n",
        "A table's primary key needs to be created from the start, so load your data to a new table with primary key ID.\n",
        "\n",
        "Load your first generator first, and then load the second one with merge. Since they have overlapping IDs, some of the records from the first load should be replaced by the ones from the second load.\n",
        "\n",
        "After loading, you should have a total of 8 records, and ID 3 should have age 33.\n",
        "\n",
        "Question: **Calculate the sum of ages of all the people loaded as described above.**\n"
      ]
    },
    {
      "cell_type": "markdown",
      "metadata": {
        "id": "kKB2GTB9oVjr"
      },
      "source": [
        "# Solution"
      ]
    },
    {
      "cell_type": "code",
      "execution_count": 10,
      "metadata": {
        "colab": {
          "base_uri": "https://localhost:8080/",
          "height": 468
        },
        "id": "a2-PRBAkGC2K",
        "outputId": "49a94f74-ba18-4d2b-96b0-47b2dc2d0eee"
      },
      "outputs": [
        {
          "data": {
            "text/plain": [
              "┌───────┬──────────┬───────┬─────────┬───────────────────┬────────────────┐\n",
              "│  id   │   name   │  age  │  city   │   _dlt_load_id    │    _dlt_id     │\n",
              "│ int64 │ varchar  │ int64 │ varchar │      varchar      │    varchar     │\n",
              "├───────┼──────────┼───────┼─────────┼───────────────────┼────────────────┤\n",
              "│     1 │ Person_1 │    26 │ City_A  │ 1708025577.984617 │ O8szVFXcxp+luQ │\n",
              "│     2 │ Person_2 │    27 │ City_A  │ 1708025577.984617 │ 71g4nlQudCXuUw │\n",
              "│     3 │ Person_3 │    28 │ City_A  │ 1708025577.984617 │ anTddLKZSKEKjg │\n",
              "│     4 │ Person_4 │    29 │ City_A  │ 1708025577.984617 │ aEXzLrZFQ/wzfg │\n",
              "│     5 │ Person_5 │    30 │ City_A  │ 1708025577.984617 │ mWMnXOWbMEbl8A │\n",
              "└───────┴──────────┴───────┴─────────┴───────────────────┴────────────────┘"
            ]
          },
          "metadata": {},
          "output_type": "display_data"
        },
        {
          "name": "stdout",
          "output_type": "stream",
          "text": [
            "\n",
            "----After Merge----\n",
            "\n"
          ]
        },
        {
          "data": {
            "text/plain": [
              "┌───────┬──────────┬───────┬─────────┬────────────────────┬────────────────┬────────────┐\n",
              "│  id   │   name   │  age  │  city   │    _dlt_load_id    │    _dlt_id     │ occupation │\n",
              "│ int64 │ varchar  │ int64 │ varchar │      varchar       │    varchar     │  varchar   │\n",
              "├───────┼──────────┼───────┼─────────┼────────────────────┼────────────────┼────────────┤\n",
              "│     1 │ Person_1 │    26 │ City_A  │ 1708025577.984617  │ O8szVFXcxp+luQ │ NULL       │\n",
              "│     2 │ Person_2 │    27 │ City_A  │ 1708025577.984617  │ 71g4nlQudCXuUw │ NULL       │\n",
              "│     3 │ Person_3 │    33 │ City_B  │ 1708025578.8717961 │ yBYakXTgkE+wkQ │ Job_3      │\n",
              "│     4 │ Person_4 │    34 │ City_B  │ 1708025578.8717961 │ /s0AXqJzTWo55w │ Job_4      │\n",
              "│     5 │ Person_5 │    35 │ City_B  │ 1708025578.8717961 │ AKVqz7UE0oou6Q │ Job_5      │\n",
              "│     6 │ Person_6 │    36 │ City_B  │ 1708025578.8717961 │ /Eivo2rUVe08Fg │ Job_6      │\n",
              "│     7 │ Person_7 │    37 │ City_B  │ 1708025578.8717961 │ 9IDpBO3wclTtJA │ Job_7      │\n",
              "│     8 │ Person_8 │    38 │ City_B  │ 1708025578.8717961 │ wiE0HQjdAmnagw │ Job_8      │\n",
              "└───────┴──────────┴───────┴─────────┴────────────────────┴────────────────┴────────────┘"
            ]
          },
          "metadata": {},
          "output_type": "display_data"
        }
      ],
      "source": [
        "# Create a new table with merge disposition, making \"id\" the primary key\n",
        "generators_pipeline.run(\n",
        "    people_1(),\n",
        "    table_name=\"solution\",\n",
        "    write_disposition=\"merge\",\n",
        "    primary_key=\"id\"\n",
        ")\n",
        "\n",
        "# Display the solution table for later comparison\n",
        "solution_original = conn.sql(\"SELECT * FROM solution ORDER BY name;\")\n",
        "display(solution_original)\n",
        "\n",
        "# Load the second generator with merge disposition\n",
        "generators_pipeline.run(\n",
        "    people_2(),\n",
        "    table_name=\"solution\",\n",
        "    write_disposition=\"merge\",\n",
        "    primary_key=\"id\"\n",
        ")\n",
        "\n",
        "# Display the solution table to verify changes\n",
        "solution_merged = conn.sql(\"SELECT * FROM solution ORDER BY name;\")\n",
        "print(\"\"\"\n",
        "----After Merge----\n",
        "\"\"\")\n",
        "display(solution_merged)"
      ]
    },
    {
      "cell_type": "markdown",
      "metadata": {
        "id": "PoTJu4kbGG0z"
      },
      "source": [
        "Questions? difficulties? We are here to help.\n",
        "- DTC data engineering course channel: https://datatalks-club.slack.com/archives/C01FABYF2RG\n",
        "- dlt's DTC cohort channel: https://dlthub-community.slack.com/archives/C06GAEX2VNX"
      ]
    }
  ],
  "metadata": {
    "colab": {
      "provenance": []
    },
    "kernelspec": {
      "display_name": "Python 3",
      "name": "python3"
    },
    "language_info": {
      "name": "python"
    }
  },
  "nbformat": 4,
  "nbformat_minor": 0
}
